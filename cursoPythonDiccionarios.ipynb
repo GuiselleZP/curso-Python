{
  "nbformat": 4,
  "nbformat_minor": 0,
  "metadata": {
    "colab": {
      "name": "cursoPythonDiccionarios.ipynb",
      "provenance": [],
      "collapsed_sections": [],
      "include_colab_link": true
    },
    "kernelspec": {
      "name": "python3",
      "display_name": "Python 3"
    }
  },
  "cells": [
    {
      "cell_type": "markdown",
      "metadata": {
        "id": "view-in-github",
        "colab_type": "text"
      },
      "source": [
        "<a href=\"https://colab.research.google.com/github/GuiselleZP/curso-Python/blob/master/cursoPythonDiccionarios.ipynb\" target=\"_parent\"><img src=\"https://colab.research.google.com/assets/colab-badge.svg\" alt=\"Open In Colab\"/></a>"
      ]
    },
    {
      "cell_type": "markdown",
      "metadata": {
        "id": "_IAmVTy9Svaz",
        "colab_type": "text"
      },
      "source": [
        "# Curso Python \n",
        "[Enlace de lista de reproducción](https://www.youtube.com/watch?v=G2FCfQj-9ig&list=PLU8oAlHdN5BlvPxziopYZRd55pdqFwkeS)\n",
        "\n",
        "\n"
      ]
    },
    {
      "cell_type": "markdown",
      "metadata": {
        "id": "EYhO5Bbbjzyn",
        "colab_type": "text"
      },
      "source": [
        "## Diccionarios\n",
        "\n",
        "\n",
        "*   Es una estructura de datos que permite almacenar valores de diferente tipo (enteros, cadenas de texto, decimales) e incluso listas y otros diccionarios.\n",
        "*   Su **principal característica** es que los datos se almacenan asociados a una **clave** de tal forma que se crea una asociacion tipo **clave: valor** para cada elemento almacenado.\n",
        "*   Los elementos almacenados no están ordenados, el orden es indiferente a la hora de almacenar en un diccionario.\n",
        "\n",
        "\n"
      ]
    },
    {
      "cell_type": "code",
      "metadata": {
        "id": "TFznv1n42L29",
        "colab_type": "code",
        "outputId": "c1e1ae80-af60-4aec-c269-c61c9b36f2cc",
        "colab": {
          "base_uri": "https://localhost:8080/",
          "height": 52
        }
      },
      "source": [
        "my_dictionary = { 'name': 'Guiselle',\n",
        "                  'last_name' : 'Zambrano',\n",
        "                  'age': 99,\n",
        "                  34 : 'hi'}\n",
        "print(my_dictionary)\n",
        "print(type(my_dictionary))"
      ],
      "execution_count": 0,
      "outputs": [
        {
          "output_type": "stream",
          "text": [
            "{'name': 'Guiselle', 'last_name': 'Zambrano', 'age': 99, 34: 'hi'}\n",
            "<class 'dict'>\n"
          ],
          "name": "stdout"
        }
      ]
    },
    {
      "cell_type": "markdown",
      "metadata": {
        "id": "0H4TmNealbV2",
        "colab_type": "text"
      },
      "source": [
        "### Sintaxis\n",
        "La **clave** puede ser una cadena de texto, un valor numérico y una tupla.\n",
        "\n",
        "dictionary_name = {key1 : value1, key2 : value2,  key3 : value3, ...}\n",
        "\n",
        "Para imprimir un elemento del diccionario, debe agregarse la **clave** entre llaves."
      ]
    },
    {
      "cell_type": "code",
      "metadata": {
        "id": "iWisEmxUlaq7",
        "colab_type": "code",
        "outputId": "9ab300ab-545f-4cf6-8e53-7311fcda5201",
        "colab": {
          "base_uri": "https://localhost:8080/",
          "height": 86
        }
      },
      "source": [
        "my_tuple = ('Germany', 'France', 'Spain')\n",
        "\n",
        "my_dictionary = { my_tuple[0] : 'Berlin', \n",
        "                  my_tuple[1] : 'Paris',\n",
        "                  my_tuple[2] : 'Madrid'}\n",
        "print(my_dictionary)\n",
        "print(my_dictionary['Germany'])\n",
        "\n",
        "\n",
        "my_dictionary = {'Germany' : 'Berlin',\n",
        "                 'France': 'Paris',\n",
        "                 'Spain' : 'Madrid'}\n",
        "\n",
        "print(my_dictionary['France'])\n",
        "print(my_dictionary)\n"
      ],
      "execution_count": 0,
      "outputs": [
        {
          "output_type": "stream",
          "text": [
            "{'Germany': 'Berlin', 'France': 'Paris', 'Spain': 'Madrid'}\n",
            "Berlin\n",
            "Paris\n",
            "{'Germany': 'Berlin', 'France': 'Paris', 'Spain': 'Madrid'}\n"
          ],
          "name": "stdout"
        }
      ]
    },
    {
      "cell_type": "markdown",
      "metadata": {
        "id": "aSIxTu_dyKKe",
        "colab_type": "text"
      },
      "source": [
        "Para agregar un elemento a un diccionario la sintaxis a seguir es:\n",
        "\n",
        "```\n",
        "dictionary_name[key] = new_value\n",
        "```\n",
        "Para modificar un elemento de un diccionario, se debe reescibir el elemento, así, se modificará el valor del \n",
        "elemento y conservará su clave.\n"
      ]
    },
    {
      "cell_type": "code",
      "metadata": {
        "id": "QP84yphB0kdr",
        "colab_type": "code",
        "outputId": "5161f061-32e5-4d13-f05b-1a28c55bc5bf",
        "colab": {
          "base_uri": "https://localhost:8080/",
          "height": 69
        }
      },
      "source": [
        "my_dictionary = {'Germany' : 'Berlin',\n",
        "                 'France': 'Paris',\n",
        "                 'Spain' : 'Madrid'}\n",
        "print(my_dictionary)\n",
        "\n",
        "my_dictionary['Italy'] = 'Bogota'\n",
        "print(my_dictionary)\n",
        "\n",
        "my_dictionary['Italy'] = 'Rome'\n",
        "print(my_dictionary)"
      ],
      "execution_count": 0,
      "outputs": [
        {
          "output_type": "stream",
          "text": [
            "{'Germany': 'Berlin', 'France': 'Paris', 'Spain': 'Madrid'}\n",
            "{'Germany': 'Berlin', 'France': 'Paris', 'Spain': 'Madrid', 'Italy': 'Bogota'}\n",
            "{'Germany': 'Berlin', 'France': 'Paris', 'Spain': 'Madrid', 'Italy': 'Rome'}\n"
          ],
          "name": "stdout"
        }
      ]
    },
    {
      "cell_type": "markdown",
      "metadata": {
        "id": "xkbY3kKl1dS5",
        "colab_type": "text"
      },
      "source": [
        "Si se desea eliminar un elemento de un diccionario, se utiliza la función **del** de la siguiente manera:\n",
        "\n",
        "\n",
        "```\n",
        "del dictionary_name[key]\n",
        "```\n",
        "\n"
      ]
    },
    {
      "cell_type": "code",
      "metadata": {
        "id": "ydK12oXB12vA",
        "colab_type": "code",
        "outputId": "19908713-a666-4b2a-e792-0225dcc68f3a",
        "colab": {
          "base_uri": "https://localhost:8080/",
          "height": 52
        }
      },
      "source": [
        "my_dictionary = {'Germany' : 'Berlin',\n",
        "                 'France': 'Paris',\n",
        "                 'Spain' : 'Madrid'}\n",
        "print(my_dictionary)\n",
        "\n",
        "del my_dictionary['France']\n",
        "print(my_dictionary)"
      ],
      "execution_count": 0,
      "outputs": [
        {
          "output_type": "stream",
          "text": [
            "{'Germany': 'Berlin', 'France': 'Paris', 'Spain': 'Madrid'}\n",
            "{'Germany': 'Berlin', 'Spain': 'Madrid'}\n"
          ],
          "name": "stdout"
        }
      ]
    },
    {
      "cell_type": "markdown",
      "metadata": {
        "id": "CKPoat7E34hH",
        "colab_type": "text"
      },
      "source": [
        "Para asignar varios elementos a una clave, se debe usar una tupla o lista para almacenar dichos valores.\n",
        "\n",
        "\n",
        "```\n",
        "dictionary_name = {key1 : [value1, value2, ...], key2 : value, ...}\n",
        "```\n",
        "\n"
      ]
    },
    {
      "cell_type": "code",
      "metadata": {
        "id": "vzpuYIPT4WtK",
        "colab_type": "code",
        "outputId": "09112247-01dc-4fbf-f246-30048b45a36f",
        "colab": {
          "base_uri": "https://localhost:8080/",
          "height": 52
        }
      },
      "source": [
        "personal_information = {'document_type': 'CC',\n",
        "                        12345 : 'AB01',\n",
        "                        'name' : 'Lady',\n",
        "                        'last_name' : 'Penagos',\n",
        "                        'years_trophies': [1990, 1999, 2002, 2012, 2019]}\n",
        "print(personal_information)\n",
        "\n",
        "personal_information['years_trophies'].append(123)\n",
        "print(personal_information)"
      ],
      "execution_count": 0,
      "outputs": [
        {
          "output_type": "stream",
          "text": [
            "{'document_type': 'CC', 12345: 'AB01', 'name': 'Lady', 'last_name': 'Penagos', 'years_trophies': [1990, 1999, 2002, 2012, 2019]}\n",
            "{'document_type': 'CC', 12345: 'AB01', 'name': 'Lady', 'last_name': 'Penagos', 'years_trophies': [1990, 1999, 2002, 2012, 2019, 122223]}\n"
          ],
          "name": "stdout"
        }
      ]
    }
  ]
}