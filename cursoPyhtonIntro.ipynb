{
  "nbformat": 4,
  "nbformat_minor": 0,
  "metadata": {
    "colab": {
      "name": "cursoPyhtonIntro.ipynb",
      "provenance": [],
      "collapsed_sections": [
        "B1SoAIuQNKdP"
      ],
      "include_colab_link": true
    },
    "kernelspec": {
      "name": "python3",
      "display_name": "Python 3"
    }
  },
  "cells": [
    {
      "cell_type": "markdown",
      "metadata": {
        "id": "view-in-github",
        "colab_type": "text"
      },
      "source": [
        "<a href=\"https://colab.research.google.com/github/GuiselleZP/curso-Python/blob/master/cursoPyhtonIntro.ipynb\" target=\"_parent\"><img src=\"https://colab.research.google.com/assets/colab-badge.svg\" alt=\"Open In Colab\"/></a>"
      ]
    },
    {
      "cell_type": "markdown",
      "metadata": {
        "id": "_IAmVTy9Svaz",
        "colab_type": "text"
      },
      "source": [
        "# Curso Python \n",
        "[Enlace de lista de reproducción](https://www.youtube.com/watch?v=G2FCfQj-9ig&list=PLU8oAlHdN5BlvPxziopYZRd55pdqFwkeS)\n",
        "\n",
        "\n"
      ]
    },
    {
      "cell_type": "markdown",
      "metadata": {
        "id": "8yipHCUqTQwe",
        "colab_type": "text"
      },
      "source": [
        "## Historia y características\n",
        "\n",
        "*   Creado por **Guido Van Rossum** a comiensos de los 90.\n",
        "*   Logotipo: dos serpientes piton.\n",
        "*   Lenguaje de alto nivel.\n",
        "*   Tipado fuerte (distingue los tipos de varible) y dinámico (se establece el tipo en tiempo de ejecución).\n",
        "*   Es orientado a objetos (sobrecarga de constructores, herencia mútiple, encapsulación, interfaces, polimorfismo).\n",
        "*   Es open source.\n",
        "*   Libreria estándar amplia.\n",
        "*   Lenguaje interpretado.\n",
        "*   Versátil (Aplicaciones de escritorio, servidor, web).\n",
        "*  Multiplataforma (Windowa, Linux, IOS)"
      ]
    },
    {
      "cell_type": "markdown",
      "metadata": {
        "id": "DnKueGFIfVqb",
        "colab_type": "text"
      },
      "source": [
        "## Sintaxis Básica\n",
        "\n",
        "\n",
        "*   \">>>\" se denomina prompt, e indica dónde introducir una instrucción en la consola\n",
        "*   Se puede introducir varias instrucciones en una linea, separando cada una de ellas con un \";\" (no se aconseja hacerlo).\n",
        "*   Comentarios de una linea inician con \"#\"\n",
        "*   Comentarios de varias lineas inician y finalizan con ' ' '\n",
        "*   Para dividir una instrucción en varias líneas se usa \"\\\\\" al final de la linea.\n",
        "*   La identación permite diferenciar instrucciones de diferentes bloques de instrucciones.\n"
      ]
    },
    {
      "cell_type": "code",
      "metadata": {
        "id": "gD1mi3RASsJg",
        "colab_type": "code",
        "colab": {}
      },
      "source": [
        "print(\"Hello world\"); print(\"WTF\")\n",
        "\n",
        "myName = \"Mi nombre es \\\n",
        "Pepita alcachofa :v <3\"\n",
        "\n",
        "print(myName)\n",
        "\n",
        "for i in range(5):\n",
        "  print(i)"
      ],
      "execution_count": 0,
      "outputs": []
    },
    {
      "cell_type": "markdown",
      "metadata": {
        "id": "FXqAKn6aiS4s",
        "colab_type": "text"
      },
      "source": [
        "### Tipos\n",
        "\n",
        "\n",
        "*   Numéricos\n",
        "    *   Enteros   \n",
        "    *   Coma flotante\n",
        "    *   Complejos\n",
        "*   Textos: Se escriben entre comillas simples ' Hello ', entre comillas dobles \"Hello\" o en ambas \" Hello 'pepito' \".\n",
        "*   Booleano: True o False\n"
      ]
    },
    {
      "cell_type": "code",
      "metadata": {
        "id": "ykEN6tc3QFTJ",
        "colab_type": "code",
        "outputId": "b615a11a-5751-4ba8-a0d8-36dfefc1c4f2",
        "colab": {
          "base_uri": "https://localhost:8080/",
          "height": 139
        }
      },
      "source": [
        "number1 = 5\n",
        "number2 = 5.7\n",
        "complex = 8 + 6j\n",
        "\n",
        "name = 'Tatiana'\n",
        "last_name = \"Zambrano\"\n",
        "sentence = \"El nombre de la gata es 'Luna'.\"\n",
        "\n",
        "boolean = True\n",
        "\n",
        "\n",
        "print(number1)\n",
        "print(number2)\n",
        "print(complex)\n",
        "\n",
        "print(name)\n",
        "print(last_name)\n",
        "print(sentence)\n",
        "\n",
        "print(boolean)"
      ],
      "execution_count": 0,
      "outputs": [
        {
          "output_type": "stream",
          "text": [
            "5\n",
            "5.7\n",
            "(8+6j)\n",
            "Tatiana\n",
            "Zambrano\n",
            "El nombre de la gata es 'Luna'.\n",
            "True\n"
          ],
          "name": "stdout"
        }
      ]
    },
    {
      "cell_type": "markdown",
      "metadata": {
        "id": "Lms3CrhwP40Y",
        "colab_type": "text"
      },
      "source": [
        "### Operadores\n",
        "\n",
        "\n",
        "*   Aritméticos\n",
        "     * Suma **+**\n",
        "     * Resta **-**\n",
        "     * Multiplicación **\\***\n",
        "     * División **/**\n",
        "     * DIvisión Entera **//**: No redondea los valores, los trunca.\n",
        "     * Módulo **%**: resto de una división\n",
        "     * Exponente **\\*\\***     \n"
      ]
    },
    {
      "cell_type": "code",
      "metadata": {
        "id": "Y2R0scspogPz",
        "colab_type": "code",
        "outputId": "1a3dd559-f4f7-4ece-8887-de49adddbac7",
        "colab": {
          "base_uri": "https://localhost:8080/",
          "height": 86
        }
      },
      "source": [
        "print(7 % 6)\n",
        "print(5**3)\n",
        "print(10/6)\n",
        "print(10//6)"
      ],
      "execution_count": 0,
      "outputs": [
        {
          "output_type": "stream",
          "text": [
            "1\n",
            "125\n",
            "1.6666666666666667\n",
            "1\n"
          ],
          "name": "stdout"
        }
      ]
    },
    {
      "cell_type": "markdown",
      "metadata": {
        "id": "zJ0bwgxapiMz",
        "colab_type": "text"
      },
      "source": [
        "*   Comparación\n",
        "     * Igual que **==**\n",
        "     * Diferente que **!=**\n",
        "     * Mayor que **>**\n",
        "     * Menor que **<**\n",
        "     * Mayor o igual que **>=**\n",
        "     * Menor o igual que **<=**\n",
        "*   Lógicos\n",
        "      * **AND**\n",
        "      * **OR**\n",
        "      * **NOT**\n",
        "*   Asignación\n",
        "      * Igual **=**\n",
        "      * Incremento **+=**\n",
        "      * Decremento **-=**\n",
        "      * **\\*=**\n",
        "      * **%=**\n",
        "      * **//=**\n",
        "      * **/=**\n",
        "      * **\\*\\*=**\n",
        "      \n",
        "*   Especiales\n",
        "      * **IS**\n",
        "      * **IN**\n",
        "      * **IS NOT**\n",
        "      * **NOT IN**\n",
        "     "
      ]
    },
    {
      "cell_type": "code",
      "metadata": {
        "id": "X0Qt1l2Hsqhk",
        "colab_type": "code",
        "colab": {}
      },
      "source": [
        "number1 = 5\n",
        "number2 = 7\n",
        "\n",
        "if number1 > number2:\n",
        "  print('El numero mayor es el uno')\n",
        "else if number1 == number2:\n",
        "  print('los numeros son iguales')\n",
        "eslse:\n",
        "  print('El numero mayor es el dos')\n",
        "  \n",
        "if number1 != number2:\n",
        "  print('Los numeros son diferentes ')"
      ],
      "execution_count": 0,
      "outputs": []
    },
    {
      "cell_type": "markdown",
      "metadata": {
        "id": "SSjv9njJpX5j",
        "colab_type": "text"
      },
      "source": [
        "### Variables\n",
        "Es un espacio en la memoria del ordenador, donde se almacenará un valor que podrá cambiar durante la ejecución del programa.\n",
        "\n",
        "\n",
        "*   Empieza por una leetra minuscula o mayuscula\n",
        "*   Contiene letras, cifras y/o subrrayado   \"name_dog2\".\n",
        "*   Utilizar subrrayado cuando la variable está compuesta de varias palabras.\n",
        "*   El tipo de variable **NO** define el contenedor, si no el contenido\n",
        "```\n",
        "# Declaración e inicialización de una variable en c\n",
        "int number = 5;\n",
        "# Declaración e inicialización de una variable en Python\n",
        "number = 5\n",
        "```\n",
        "*  Todo está orientado a objetos\n",
        "*  La función \"type()\" devuelve el tipo de variable.\n",
        "\n",
        "\n",
        "\n",
        "\n"
      ]
    },
    {
      "cell_type": "code",
      "metadata": {
        "id": "VVt17Afbppkn",
        "colab_type": "code",
        "outputId": "b40f0d90-9102-444d-b9fe-e25ec8c8b81d",
        "colab": {
          "base_uri": "https://localhost:8080/",
          "height": 104
        }
      },
      "source": [
        "number = 5\n",
        "name = \"Guiselle\"\n",
        "print(type(number))\n",
        "print(type(name))\n",
        "\n",
        "mensaje = '''Mensaje con\n",
        "tres saltos \n",
        "de linea'''\n",
        "\n",
        "print(mensaje)"
      ],
      "execution_count": 0,
      "outputs": [
        {
          "output_type": "stream",
          "text": [
            "<class 'int'>\n",
            "<class 'str'>\n",
            "Mensaje con\n",
            "tres saltos \n",
            "de linea\n"
          ],
          "name": "stdout"
        }
      ]
    },
    {
      "cell_type": "markdown",
      "metadata": {
        "id": "DAGjG-IHA3jw",
        "colab_type": "text"
      },
      "source": [
        "**bold text**### Funciones\n",
        "**¿qué es?** Es un conjunto de lineas de código agrupadas que funcionan como una unidad, realizando una tarea específica.\n",
        "*  Las funciones pueden devolver o no valores. \n",
        "*  Pueden recibir o no parámetros.\n",
        "*  Se les denomina 'Métodos' cuando están definidas dentro de una clase.\n",
        "\n",
        "**¿Para qué sirven?**\n",
        " Reutilización de código \n",
        "\n"
      ]
    },
    {
      "cell_type": "code",
      "metadata": {
        "id": "GpJahQCSCWGO",
        "colab_type": "code",
        "outputId": "f50b89c5-9b93-4b38-9854-29bc884a7e5e",
        "colab": {
          "base_uri": "https://localhost:8080/",
          "height": 34
        }
      },
      "source": [
        "def function1(a, b):\n",
        "  z = 0\n",
        "  while a > 0:\n",
        "    z += b\n",
        "    a -= 1;\n",
        "  return z\n",
        "\n",
        "print(function1(3, 2))"
      ],
      "execution_count": 0,
      "outputs": [
        {
          "output_type": "stream",
          "text": [
            "6\n"
          ],
          "name": "stdout"
        }
      ]
    }
  ]
}