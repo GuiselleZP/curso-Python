{
  "nbformat": 4,
  "nbformat_minor": 0,
  "metadata": {
    "colab": {
      "name": "cursoPythonTuplas.ipynb",
      "provenance": [],
      "collapsed_sections": [],
      "include_colab_link": true
    },
    "kernelspec": {
      "name": "python3",
      "display_name": "Python 3"
    }
  },
  "cells": [
    {
      "cell_type": "markdown",
      "metadata": {
        "id": "view-in-github",
        "colab_type": "text"
      },
      "source": [
        "<a href=\"https://colab.research.google.com/github/GuiselleZP/curso-Python/blob/master/cursoPythonTuplas.ipynb\" target=\"_parent\"><img src=\"https://colab.research.google.com/assets/colab-badge.svg\" alt=\"Open In Colab\"/></a>"
      ]
    },
    {
      "cell_type": "markdown",
      "metadata": {
        "id": "_IAmVTy9Svaz",
        "colab_type": "text"
      },
      "source": [
        "# Curso Python \n",
        "[Enlace de lista de reproducción](https://www.youtube.com/watch?v=G2FCfQj-9ig&list=PLU8oAlHdN5BlvPxziopYZRd55pdqFwkeS)\n",
        "\n",
        "\n"
      ]
    },
    {
      "cell_type": "markdown",
      "metadata": {
        "id": "wAjZ3PbUSiZY",
        "colab_type": "text"
      },
      "source": [
        "## Tuplas\n",
        "\n",
        "\n",
        "*   Son listas inmutables, estas no pueden modificarse despues de su creación\n",
        "    * **No** permite añadir, eliminar, mover elementos, etc. (apeend, extend, remove)\n",
        "    * **Sí** permite extraer porciones, pero el resultado de la extracción es una tupla nueva.\n",
        "    * **Sí** permite busquedas (index).\n",
        "    * **Sí** permite compribar si un elemento está en una tupla\n",
        "*   ¿Qué utilidad o ventaja tiene con respecto a las listas?\n",
        "    * Más rápidas.\n",
        "    * Menos espacio (más optimización).\n",
        "    * Formatear strings\n",
        "    * Puede utilizarce como claves en un diccionario (la listas no).\n",
        "\n",
        "**Sintaxis**\n",
        "\n",
        "tuple_name = (item1, item2, item3, ...)  \n",
        "\n",
        "\n",
        "Para acceder a un elemento de una tupla, se utiliza la misma sintaxis que con las listas, indicando entre llaves el índice de un elemento en particular o el rango que comprenderá algunos o todos los elementos de la tupla."
      ]
    },
    {
      "cell_type": "code",
      "metadata": {
        "id": "np21excCXFlv",
        "colab_type": "code",
        "outputId": "c416bd56-09bf-4a6c-a59a-c8079cf20bb6",
        "colab": {
          "base_uri": "https://localhost:8080/",
          "height": 86
        }
      },
      "source": [
        "my_tuple = ('Lady', 'Anely', 'Tatiana')\n",
        "\n",
        "print(my_tuple.index('Lady'))\n",
        "\n",
        "print(my_tuple[0])\n",
        "print(my_tuple[:2])\n",
        "print(my_tuple[1:2])\n"
      ],
      "execution_count": 0,
      "outputs": [
        {
          "output_type": "stream",
          "text": [
            "0\n",
            "Lady\n",
            "('Lady', 'Anely')\n",
            "('Anely',)\n"
          ],
          "name": "stdout"
        }
      ]
    },
    {
      "cell_type": "markdown",
      "metadata": {
        "id": "W33dYeAxcRGO",
        "colab_type": "text"
      },
      "source": [
        "Los parentesis son **opcionales**. La incusión de parentensis se conoce como **empaquetado de tupla**, el proceso de **desempaquetado de tupla** consiste en asignar los elementos de una tupla a diferentes variables.\n"
      ]
    },
    {
      "cell_type": "code",
      "metadata": {
        "id": "RwJk10R9cc83",
        "colab_type": "code",
        "colab": {}
      },
      "source": [
        "print(my_tuple[:])\n",
        "\n",
        "# Se le asigna los valores de la tupla a cada variable en orden\n",
        "sister, mother, monster = my_tuple \n",
        "\n",
        "print(sister)\n",
        "print(mother)\n",
        "print(monster)\n"
      ],
      "execution_count": 0,
      "outputs": []
    },
    {
      "cell_type": "markdown",
      "metadata": {
        "id": "oiFOM1V8XtkT",
        "colab_type": "text"
      },
      "source": [
        "Se puede convertir una tupla en una lista y viceversa, esto se hace con los siguientes métodos:\n",
        "\n",
        "\n",
        "*   **list(tuple_name):** Retorna una lista y recibe una tupla como parámetro.\n",
        "*   **tuple(list_name):** Retorna una tupla y recibe una lista como parámetro.\n",
        "\n"
      ]
    },
    {
      "cell_type": "code",
      "metadata": {
        "id": "AotPLoKdYIfB",
        "colab_type": "code",
        "outputId": "5c6c1d3a-7801-4973-ff4c-43da27f47aee",
        "colab": {
          "base_uri": "https://localhost:8080/",
          "height": 86
        }
      },
      "source": [
        "my_list = list(my_tuple)\n",
        "\n",
        "print(my_list[:])\n",
        "print(my_tuple[:])\n",
        "\n",
        "my_list = [1, 2, 3, 'cat']\n",
        "my_tuple1 = tuple(my_list)\n",
        "\n",
        "print(my_list[:])\n",
        "print(my_tuple1[:])"
      ],
      "execution_count": 0,
      "outputs": [
        {
          "output_type": "stream",
          "text": [
            "['Lady', 'Anely', 'Tatiana']\n",
            "('Lady', 'Anely', 'Tatiana')\n",
            "[1, 2, 3, 'cat']\n",
            "(1, 2, 3, 'cat')\n"
          ],
          "name": "stdout"
        }
      ]
    },
    {
      "cell_type": "markdown",
      "metadata": {
        "id": "LZPVJkJTZJRa",
        "colab_type": "text"
      },
      "source": [
        "Para saber si un determinado elemento se encuentra en una tupla, se utiliza el operador espacial **IN** con ayuda de la función print, esto devolverá un booleano .\n",
        "\n",
        "Si se quiere saber cuantas veces se repite un elemento en una tupla, se utiliza la función **count(item)**."
      ]
    },
    {
      "cell_type": "code",
      "metadata": {
        "id": "06ZvqLQrZXO3",
        "colab_type": "code",
        "outputId": "90ea9bb7-9997-4fa7-e0a9-481d6b3df5d8",
        "colab": {
          "base_uri": "https://localhost:8080/",
          "height": 104
        }
      },
      "source": [
        "print('cat' in my_tuple1)\n",
        "print('Dog' in my_tuple1)\n",
        "\n",
        "my_tuple2 = (1, 1, 1, 'Luna', 'Morty')\n",
        "\n",
        "print(my_tuple2.count(1))\n",
        "print(my_tuple2.count('Luna'))\n",
        "print(my_tuple2.count('Guiselle'))"
      ],
      "execution_count": 0,
      "outputs": [
        {
          "output_type": "stream",
          "text": [
            "True\n",
            "False\n",
            "3\n",
            "1\n",
            "0\n"
          ],
          "name": "stdout"
        }
      ]
    },
    {
      "cell_type": "markdown",
      "metadata": {
        "id": "xHwav8T6afaw",
        "colab_type": "text"
      },
      "source": [
        "La función **len(tuple_name)** retorna la longitud de una tupla"
      ]
    },
    {
      "cell_type": "code",
      "metadata": {
        "id": "GCxvR-hZaptl",
        "colab_type": "code",
        "outputId": "7deb6f63-fbcc-4d03-a21a-bd82c00518bd",
        "colab": {
          "base_uri": "https://localhost:8080/",
          "height": 69
        }
      },
      "source": [
        "print(my_tuple2[:])\n",
        "print(len(my_tuple2))\n",
        "print(len(my_list))"
      ],
      "execution_count": 0,
      "outputs": [
        {
          "output_type": "stream",
          "text": [
            "(1, 1, 1, 'Luna', 'Morty')\n",
            "5\n",
            "4\n"
          ],
          "name": "stdout"
        }
      ]
    },
    {
      "cell_type": "markdown",
      "metadata": {
        "id": "1EaFl-Mha3l5",
        "colab_type": "text"
      },
      "source": [
        "Para crear una tupla de un único elemento la sintaxis a seguir es la siguiente:\n",
        "```\n",
        "my_tuple = ('Lady',)\n",
        "```\n",
        "Debe agregarse la coma ya que esta indicará que la tupla contiene un único elemento en ella\n",
        "\n"
      ]
    },
    {
      "cell_type": "code",
      "metadata": {
        "id": "R1ZHA78tbTTO",
        "colab_type": "code",
        "outputId": "e1b44ab9-8664-4e53-b0a2-43e4d5f6d17a",
        "colab": {
          "base_uri": "https://localhost:8080/",
          "height": 69
        }
      },
      "source": [
        "my_tuple3 = ('Guiselle',)\n",
        "print(my_tuple3[:])\n",
        "print(my_tuple3[0])\n",
        "print(len(my_tuple3))"
      ],
      "execution_count": 0,
      "outputs": [
        {
          "output_type": "stream",
          "text": [
            "('Guiselle',)\n",
            "Guiselle\n",
            "1\n"
          ],
          "name": "stdout"
        }
      ]
    }
  ]
}