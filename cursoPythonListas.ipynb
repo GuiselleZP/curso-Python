{
  "nbformat": 4,
  "nbformat_minor": 0,
  "metadata": {
    "colab": {
      "name": "cursoPythonListas.ipynb",
      "provenance": [],
      "collapsed_sections": [],
      "include_colab_link": true
    },
    "kernelspec": {
      "name": "python3",
      "display_name": "Python 3"
    }
  },
  "cells": [
    {
      "cell_type": "markdown",
      "metadata": {
        "id": "view-in-github",
        "colab_type": "text"
      },
      "source": [
        "<a href=\"https://colab.research.google.com/github/GuiselleZP/curso-Python/blob/master/cursoPythonListas.ipynb\" target=\"_parent\"><img src=\"https://colab.research.google.com/assets/colab-badge.svg\" alt=\"Open In Colab\"/></a>"
      ]
    },
    {
      "cell_type": "markdown",
      "metadata": {
        "id": "_IAmVTy9Svaz",
        "colab_type": "text"
      },
      "source": [
        "# Curso Python \n",
        "[Enlace de lista de reproducción](https://www.youtube.com/watch?v=G2FCfQj-9ig&list=PLU8oAlHdN5BlvPxziopYZRd55pdqFwkeS)\n",
        "\n",
        "\n"
      ]
    },
    {
      "cell_type": "markdown",
      "metadata": {
        "id": "B1SoAIuQNKdP",
        "colab_type": "text"
      },
      "source": [
        "## Listas\n",
        "\n",
        "*   Estructura de datos que permite almacenar grán cantidad de valores (Equivalente a los 'array' en otros lenguajes de programación).\n",
        "*   Puede almacenar diferentes tipos de valores (en otros lenguajes esto no es posible).\n",
        "*   Se puede expandir dinámicamente, añadiendo nuevos elementos (a diferencia de los arrays, cuyo tamaño es constante).\n",
        "\n",
        "\n",
        "**Sintaxis**\n",
        "\n",
        "nombre_lista = [elemento1, elemento2, elemento3 ...]\n",
        "\n",
        " ***índice:*** posición de un elemento en la lista, se empieza a numerar desde la posición 0.\n",
        "\n"
      ]
    },
    {
      "cell_type": "code",
      "metadata": {
        "id": "LyGSJsg5OZeG",
        "colab_type": "code",
        "outputId": "65df7970-9a25-4984-8984-419c941f0f1b",
        "colab": {
          "base_uri": "https://localhost:8080/",
          "height": 121
        }
      },
      "source": [
        "my_list = ['Guiselle', 'Pepito', 'Lady', 'Anely']\n",
        "\n",
        "#imprimir todos los elementos de la lista\n",
        "print(my_list[:]) \n",
        "\n",
        "#imprimir un elemento en concreto\n",
        "print(my_list[0]) \n",
        "\n",
        "#utilizando indices negativos\n",
        "print(my_list[-2])\n",
        "\n",
        "# acceder a una porcion de lista\n",
        "# rango de la porcion: [indice_inicio : indice_final]\n",
        "# indice_inicio = se incluye en la porcion\n",
        "# indice_inicio = NO se incluye en la porcion\n",
        "print(my_list[1:3])\n",
        "\n",
        "# si se omite el 'indice_inicio', se interpreta el valor de este como 0\n",
        "print (my_list[0:3])\n",
        "\n",
        "# si se omite el 'indice_final', se tomaran los elementos de la lista\n",
        "# desde el 'indice_inicio' hasta el final de la lista\n",
        "print(my_list[1:])"
      ],
      "execution_count": 0,
      "outputs": [
        {
          "output_type": "stream",
          "text": [
            "['Guiselle', 'Pepito', 'Lady', 'Anely']\n",
            "Guiselle\n",
            "Lady\n",
            "['Pepito', 'Lady']\n",
            "['Guiselle', 'Pepito', 'Lady']\n",
            "['Pepito', 'Lady', 'Anely']\n"
          ],
          "name": "stdout"
        }
      ]
    },
    {
      "cell_type": "markdown",
      "metadata": {
        "id": "D-qkoa3-UuLh",
        "colab_type": "text"
      },
      "source": [
        "Para agregar elementos a una lista, existen varios métodos:\n",
        "\n",
        "*   **append(new_item):** Agrega un elemento al final de la lista.\n",
        "\n",
        "*   **insert(index, new_item):** Agrega un nuevo elemento en el indice mencionado, corriendo los demás elementos, un indice a la derecha. \n",
        "*   **extend([item1, item2, ... ]):** Agregar más de un elemento a la lista, concatenandolos al final.\n",
        "\n"
      ]
    },
    {
      "cell_type": "code",
      "metadata": {
        "id": "5bbuGVoDUesZ",
        "colab_type": "code",
        "outputId": "88209029-b89a-4558-d9bc-4140620df4ce",
        "colab": {
          "base_uri": "https://localhost:8080/",
          "height": 69
        }
      },
      "source": [
        "my_list = ['Guiselle', 'Pepito', 'Lady', 'Anely']\n",
        "\n",
        "my_list.append('Daniela')\n",
        "print(my_list[:])\n",
        "\n",
        "my_list.insert(1, 'Tatiana')\n",
        "print(my_list[:])\n",
        "\n",
        "my_list.extend(['Gloria', 'Sara', 'Johanna'])\n",
        "print(my_list[:])"
      ],
      "execution_count": 0,
      "outputs": [
        {
          "output_type": "stream",
          "text": [
            "['Guiselle', 'Pepito', 'Lady', 'Anely', 'Daniela']\n",
            "['Guiselle', 'Tatiana', 'Pepito', 'Lady', 'Anely', 'Daniela']\n",
            "['Guiselle', 'Tatiana', 'Pepito', 'Lady', 'Anely', 'Daniela', 'Gloria', 'Sara', 'Johanna']\n"
          ],
          "name": "stdout"
        }
      ]
    },
    {
      "cell_type": "markdown",
      "metadata": {
        "id": "SLwiwk0jQttT",
        "colab_type": "text"
      },
      "source": [
        "También puede crearse una nueva lista como resultado de combinar dos o más listas, esto con ayuda del operador **+**.\n",
        "\n",
        "El operador **\\*** funciona como repetidor y sirve para pegar una misma lista una detrás de otra, una cantidad definida de veces."
      ]
    },
    {
      "cell_type": "code",
      "metadata": {
        "id": "AcjwzQOeQ9K_",
        "colab_type": "code",
        "colab": {}
      },
      "source": [
        "my_list1 = ['Lady', 'Anely', 'Tatiana']\n",
        "my_list2 = [1, 2.34, 3 + 2j, 'Luna']\n",
        "my_list3 = my_list1 + my_list2\n",
        "print(my_list3[:])\n",
        "\n",
        "my_list3 = my_list1 * 3\n",
        "print(my_list3[:])"
      ],
      "execution_count": 0,
      "outputs": []
    },
    {
      "cell_type": "markdown",
      "metadata": {
        "id": "q3RV-BE1Xduw",
        "colab_type": "text"
      },
      "source": [
        "**index(item):** Método, para obtener el índice de un elemento de la lista. Si en la lista hay varios elementos iguales, este método devolverá únicamente el indice del primer elemento que encuentre\n",
        "\n"
      ]
    },
    {
      "cell_type": "code",
      "metadata": {
        "id": "RiL65CieYF8B",
        "colab_type": "code",
        "outputId": "4596dc9e-e0cc-441d-95b8-cff443fca64a",
        "colab": {
          "base_uri": "https://localhost:8080/",
          "height": 52
        }
      },
      "source": [
        "my_list = ['Guiselle', 'Pepito', 'Lady', 'Anely']\n",
        "\n",
        "print(my_list.index('Lady'))\n",
        "\n",
        "my_list.insert(0, 'Lady')\n",
        "\n",
        "print(my_list.index('Lady'))\n"
      ],
      "execution_count": 0,
      "outputs": [
        {
          "output_type": "stream",
          "text": [
            "2\n",
            "0\n"
          ],
          "name": "stdout"
        }
      ]
    },
    {
      "cell_type": "markdown",
      "metadata": {
        "id": "Zq4_AcovZdY0",
        "colab_type": "text"
      },
      "source": [
        "Para saber si un elemento se encuentra en la lista, se utiliza la función print (con ayuda del operador espacial **IN**), la cual devolverá un valor 'True' o 'False'"
      ]
    },
    {
      "cell_type": "code",
      "metadata": {
        "id": "XIJ24fIiZzBP",
        "colab_type": "code",
        "outputId": "55c668e8-9ccb-4c2e-d180-2e2573c28cff",
        "colab": {
          "base_uri": "https://localhost:8080/",
          "height": 52
        }
      },
      "source": [
        "print('Anely' in my_list)\n",
        "print('Test' in my_list)\n"
      ],
      "execution_count": 0,
      "outputs": [
        {
          "output_type": "stream",
          "text": [
            "True\n",
            "False\n"
          ],
          "name": "stdout"
        }
      ]
    },
    {
      "cell_type": "markdown",
      "metadata": {
        "id": "0ogwGvw4OZqI",
        "colab_type": "text"
      },
      "source": [
        "Para eliminar un elemento de una lista, se pueden usar las siguientes funciones:\n",
        "\n",
        "\n",
        "*   **remove(item):** Busca le elemento definido en la lista y luego lo elimina si este existe.\n",
        "*   **pop():** Elimina el último elemento de las listas\n",
        "\n",
        "\n"
      ]
    },
    {
      "cell_type": "code",
      "metadata": {
        "id": "24nseUNVO1JB",
        "colab_type": "code",
        "colab": {}
      },
      "source": [
        "my_list = ['Guiselle', 'Pepito', 'Lady', 'Anely']\n",
        "my_list.remove('Pepito')\n",
        "print(my_list[:])\n",
        "\n",
        "my_list.pop()\n",
        "print(my_list[:])"
      ],
      "execution_count": 0,
      "outputs": []
    }
  ]
}